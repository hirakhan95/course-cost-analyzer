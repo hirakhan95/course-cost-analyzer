{
 "cells": [
  {
   "cell_type": "markdown",
   "id": "cd352a8d-3d6b-409d-8658-27c7c8bd1db7",
   "metadata": {},
   "source": [
    "# ML Modeling and Evaluation Notebook"
   ]
  },
  {
   "cell_type": "markdown",
   "id": "84fc8a50-7b84-485a-a574-1e05fbef69b0",
   "metadata": {},
   "source": [
    "### Objectives:"
   ]
  },
  {
   "cell_type": "markdown",
   "id": "25f4ede0-98a4-4e2c-a67e-3b9692b731b4",
   "metadata": {},
   "source": [
    "Fit and evaluate a regression model"
   ]
  },
  {
   "cell_type": "markdown",
   "id": "a98b943a-7a9f-43b9-a51c-27aca46ecb12",
   "metadata": {},
   "source": [
    "### Inputs:"
   ]
  },
  {
   "cell_type": "markdown",
   "id": "614f8337-2f59-48dd-b783-23d5d4c227f7",
   "metadata": {},
   "source": [
    "outputs/datasets/cleaned/cleanedDataset.csv"
   ]
  },
  {
   "cell_type": "markdown",
   "id": "faa4adc9-242a-4da5-b174-c7d8bb65767e",
   "metadata": {},
   "source": [
    "### Outputs:"
   ]
  },
  {
   "cell_type": "markdown",
   "id": "ceec3b15-1b3b-4d7f-9442-f22d5a941631",
   "metadata": {},
   "source": []
  },
  {
   "cell_type": "markdown",
   "id": "d5d5e3e0-5fc8-4391-a3e1-36fa7c7a82fb",
   "metadata": {},
   "source": [
    "### Price Optimization Based on Course Popularity\n",
    "\n",
    "Business Case:\n",
    "By analyzing the relationship between the price, number of subscribers, and number of reviews, you can develop a dynamic pricing strategy. For example, courses with more subscribers or positive reviews can be priced higher. Similarly, courses with fewer subscribers could have discounts or special promotions to attract more learners. This pricing strategy could boost revenue by aligning course prices with demand and perceived value.\n",
    "\n",
    "- Perform regression analysis to understand how price correlates with factors like subscribers and reviews.\n",
    "- Segment courses by popularity (e.g., top 10%, bottom 10%) and analyze the pricing strategies for each group.\n",
    "- Implement dynamic pricing algorithms based on market demand and course popularity."
   ]
  },
  {
   "cell_type": "markdown",
   "id": "8eb02a33-9375-4c87-8367-3caa9de52646",
   "metadata": {},
   "source": [
    "### 1. Import libraries and get the current directory path"
   ]
  },
  {
   "cell_type": "code",
   "execution_count": 7,
   "id": "8cdd912c-956d-4969-bb97-acf1ffd9de32",
   "metadata": {},
   "outputs": [],
   "source": [
    "import os\n",
    "import pandas as pd\n",
    "import numpy as np\n",
    "from sklearn.model_selection import train_test_split, GridSearchCV\n",
    "from sklearn.ensemble import RandomForestRegressor\n",
    "from sklearn.preprocessing import StandardScaler, LabelEncoder\n",
    "from sklearn.metrics import mean_absolute_error, mean_squared_error, r2_score\n",
    "import matplotlib.pyplot as plt\n",
    "\n",
    "# In case you want to go one directory back\n",
    "current_dir = os.getcwd()\n",
    "os.chdir(os.path.dirname(current_dir))"
   ]
  },
  {
   "cell_type": "markdown",
   "id": "ac2965e4-f5f6-4322-afca-02ddad114784",
   "metadata": {},
   "source": [
    "### 2. Check the data"
   ]
  },
  {
   "cell_type": "code",
   "execution_count": 8,
   "id": "4fbdff8a-d8eb-4b24-bfda-0d6ce3e0094a",
   "metadata": {},
   "outputs": [],
   "source": [
    "df = pd.read_csv(f\"outputs/datasets/cleaned/cleanedDataset.csv\")"
   ]
  },
  {
   "cell_type": "code",
   "execution_count": 9,
   "id": "9dba4c55-4eef-4bc6-9237-4c8f6477de5b",
   "metadata": {},
   "outputs": [
    {
     "data": {
      "text/html": [
       "<div>\n",
       "<style scoped>\n",
       "    .dataframe tbody tr th:only-of-type {\n",
       "        vertical-align: middle;\n",
       "    }\n",
       "\n",
       "    .dataframe tbody tr th {\n",
       "        vertical-align: top;\n",
       "    }\n",
       "\n",
       "    .dataframe thead th {\n",
       "        text-align: right;\n",
       "    }\n",
       "</style>\n",
       "<table border=\"1\" class=\"dataframe\">\n",
       "  <thead>\n",
       "    <tr style=\"text-align: right;\">\n",
       "      <th></th>\n",
       "      <th>course_id</th>\n",
       "      <th>course_title</th>\n",
       "      <th>url</th>\n",
       "      <th>is_paid</th>\n",
       "      <th>price</th>\n",
       "      <th>num_subscribers</th>\n",
       "      <th>num_reviews</th>\n",
       "      <th>num_lectures</th>\n",
       "      <th>level</th>\n",
       "      <th>content_duration</th>\n",
       "      <th>published_timestamp</th>\n",
       "      <th>subject</th>\n",
       "    </tr>\n",
       "  </thead>\n",
       "  <tbody>\n",
       "    <tr>\n",
       "      <th>0</th>\n",
       "      <td>1070968</td>\n",
       "      <td>Ultimate Investment Banking Course</td>\n",
       "      <td>https://www.udemy.com/ultimate-investment-bank...</td>\n",
       "      <td>1</td>\n",
       "      <td>200</td>\n",
       "      <td>2147</td>\n",
       "      <td>23</td>\n",
       "      <td>51</td>\n",
       "      <td>All Levels</td>\n",
       "      <td>1.5</td>\n",
       "      <td>2017-01-18 20:58:58+00:00</td>\n",
       "      <td>Business Finance</td>\n",
       "    </tr>\n",
       "    <tr>\n",
       "      <th>1</th>\n",
       "      <td>1113822</td>\n",
       "      <td>Complete GST Course &amp; Certification - Grow You...</td>\n",
       "      <td>https://www.udemy.com/goods-and-services-tax/</td>\n",
       "      <td>1</td>\n",
       "      <td>75</td>\n",
       "      <td>2792</td>\n",
       "      <td>923</td>\n",
       "      <td>274</td>\n",
       "      <td>All Levels</td>\n",
       "      <td>39.0</td>\n",
       "      <td>2017-03-09 16:34:20+00:00</td>\n",
       "      <td>Business Finance</td>\n",
       "    </tr>\n",
       "    <tr>\n",
       "      <th>2</th>\n",
       "      <td>1006314</td>\n",
       "      <td>Financial Modeling for Business Analysts and C...</td>\n",
       "      <td>https://www.udemy.com/financial-modeling-for-b...</td>\n",
       "      <td>1</td>\n",
       "      <td>45</td>\n",
       "      <td>2174</td>\n",
       "      <td>74</td>\n",
       "      <td>51</td>\n",
       "      <td>Intermediate Level</td>\n",
       "      <td>2.5</td>\n",
       "      <td>2016-12-19 19:26:30+00:00</td>\n",
       "      <td>Business Finance</td>\n",
       "    </tr>\n",
       "    <tr>\n",
       "      <th>3</th>\n",
       "      <td>1210588</td>\n",
       "      <td>Beginner to Pro - Financial Analysis in Excel ...</td>\n",
       "      <td>https://www.udemy.com/complete-excel-finance-c...</td>\n",
       "      <td>1</td>\n",
       "      <td>95</td>\n",
       "      <td>2451</td>\n",
       "      <td>11</td>\n",
       "      <td>36</td>\n",
       "      <td>All Levels</td>\n",
       "      <td>3.0</td>\n",
       "      <td>2017-05-30 20:07:24+00:00</td>\n",
       "      <td>Business Finance</td>\n",
       "    </tr>\n",
       "    <tr>\n",
       "      <th>4</th>\n",
       "      <td>1011058</td>\n",
       "      <td>How To Maximize Your Profits Trading Options</td>\n",
       "      <td>https://www.udemy.com/how-to-maximize-your-pro...</td>\n",
       "      <td>1</td>\n",
       "      <td>200</td>\n",
       "      <td>1276</td>\n",
       "      <td>45</td>\n",
       "      <td>26</td>\n",
       "      <td>Intermediate Level</td>\n",
       "      <td>2.0</td>\n",
       "      <td>2016-12-13 14:57:18+00:00</td>\n",
       "      <td>Business Finance</td>\n",
       "    </tr>\n",
       "  </tbody>\n",
       "</table>\n",
       "</div>"
      ],
      "text/plain": [
       "   course_id                                       course_title  \\\n",
       "0    1070968                 Ultimate Investment Banking Course   \n",
       "1    1113822  Complete GST Course & Certification - Grow You...   \n",
       "2    1006314  Financial Modeling for Business Analysts and C...   \n",
       "3    1210588  Beginner to Pro - Financial Analysis in Excel ...   \n",
       "4    1011058       How To Maximize Your Profits Trading Options   \n",
       "\n",
       "                                                 url  is_paid  price  \\\n",
       "0  https://www.udemy.com/ultimate-investment-bank...        1    200   \n",
       "1      https://www.udemy.com/goods-and-services-tax/        1     75   \n",
       "2  https://www.udemy.com/financial-modeling-for-b...        1     45   \n",
       "3  https://www.udemy.com/complete-excel-finance-c...        1     95   \n",
       "4  https://www.udemy.com/how-to-maximize-your-pro...        1    200   \n",
       "\n",
       "   num_subscribers  num_reviews  num_lectures               level  \\\n",
       "0             2147           23            51          All Levels   \n",
       "1             2792          923           274          All Levels   \n",
       "2             2174           74            51  Intermediate Level   \n",
       "3             2451           11            36          All Levels   \n",
       "4             1276           45            26  Intermediate Level   \n",
       "\n",
       "   content_duration        published_timestamp           subject  \n",
       "0               1.5  2017-01-18 20:58:58+00:00  Business Finance  \n",
       "1              39.0  2017-03-09 16:34:20+00:00  Business Finance  \n",
       "2               2.5  2016-12-19 19:26:30+00:00  Business Finance  \n",
       "3               3.0  2017-05-30 20:07:24+00:00  Business Finance  \n",
       "4               2.0  2016-12-13 14:57:18+00:00  Business Finance  "
      ]
     },
     "execution_count": 9,
     "metadata": {},
     "output_type": "execute_result"
    }
   ],
   "source": [
    "df.head()"
   ]
  },
  {
   "cell_type": "code",
   "execution_count": 10,
   "id": "a8474ecc-a8b3-4c3a-93cb-eecae956af9c",
   "metadata": {},
   "outputs": [
    {
     "name": "stdout",
     "output_type": "stream",
     "text": [
      "Unique Subjects ['Business Finance' 'Graphic Design' 'Musical Instruments'\n",
      " 'Web Development']\n",
      "Unique Levels ['All Levels' 'Intermediate Level' 'Beginner Level' 'Expert Level']\n"
     ]
    }
   ],
   "source": [
    "print('Unique Subjects',df['subject'].unique())\n",
    "print('Unique Levels',df['level'].unique())"
   ]
  },
  {
   "cell_type": "markdown",
   "id": "94372e90-44e9-4540-86bd-a882e30f9174",
   "metadata": {},
   "source": [
    "### 3. Data Cleaning"
   ]
  },
  {
   "cell_type": "code",
   "execution_count": 11,
   "id": "49d4288c-a73a-482a-afde-2119341ef408",
   "metadata": {},
   "outputs": [],
   "source": [
    "def clean_data(df):\n",
    "    # Drop irrelevant rows when is_paid is not 1\n",
    "    df = df[df['is_paid'] == 1]\n",
    "    \n",
    "    # Drop irrelevant columns\n",
    "    df = df.drop(['course_title', 'course_id', 'url', 'published_timestamp', 'is_paid'], axis=1)\n",
    "    \n",
    "    # Handle missing values for numeric columns\n",
    "    numeric_columns = df.select_dtypes(include=[np.number]).columns\n",
    "    df[numeric_columns] = df[numeric_columns].fillna(df[numeric_columns].mean())\n",
    "\n",
    "    # Handle missing values for categorical columns (if any)\n",
    "    categorical_columns = df.select_dtypes(include=[object]).columns\n",
    "    for col in categorical_columns:\n",
    "        df[col] = df[col].fillna(df[col].mode()[0])  # Assign the filled values directly\n",
    "\n",
    "    return df\n",
    "\n",
    "# Applying the clean_data function\n",
    "df = clean_data(df)"
   ]
  },
  {
   "cell_type": "code",
   "execution_count": 12,
   "id": "c419e6c5-c563-4207-a36d-473b9102fad3",
   "metadata": {},
   "outputs": [
    {
     "data": {
      "text/html": [
       "<div>\n",
       "<style scoped>\n",
       "    .dataframe tbody tr th:only-of-type {\n",
       "        vertical-align: middle;\n",
       "    }\n",
       "\n",
       "    .dataframe tbody tr th {\n",
       "        vertical-align: top;\n",
       "    }\n",
       "\n",
       "    .dataframe thead th {\n",
       "        text-align: right;\n",
       "    }\n",
       "</style>\n",
       "<table border=\"1\" class=\"dataframe\">\n",
       "  <thead>\n",
       "    <tr style=\"text-align: right;\">\n",
       "      <th></th>\n",
       "      <th>price</th>\n",
       "      <th>num_subscribers</th>\n",
       "      <th>num_reviews</th>\n",
       "      <th>num_lectures</th>\n",
       "      <th>level</th>\n",
       "      <th>content_duration</th>\n",
       "      <th>subject</th>\n",
       "    </tr>\n",
       "  </thead>\n",
       "  <tbody>\n",
       "    <tr>\n",
       "      <th>0</th>\n",
       "      <td>200</td>\n",
       "      <td>2147</td>\n",
       "      <td>23</td>\n",
       "      <td>51</td>\n",
       "      <td>All Levels</td>\n",
       "      <td>1.5</td>\n",
       "      <td>Business Finance</td>\n",
       "    </tr>\n",
       "    <tr>\n",
       "      <th>1</th>\n",
       "      <td>75</td>\n",
       "      <td>2792</td>\n",
       "      <td>923</td>\n",
       "      <td>274</td>\n",
       "      <td>All Levels</td>\n",
       "      <td>39.0</td>\n",
       "      <td>Business Finance</td>\n",
       "    </tr>\n",
       "    <tr>\n",
       "      <th>2</th>\n",
       "      <td>45</td>\n",
       "      <td>2174</td>\n",
       "      <td>74</td>\n",
       "      <td>51</td>\n",
       "      <td>Intermediate Level</td>\n",
       "      <td>2.5</td>\n",
       "      <td>Business Finance</td>\n",
       "    </tr>\n",
       "  </tbody>\n",
       "</table>\n",
       "</div>"
      ],
      "text/plain": [
       "   price  num_subscribers  num_reviews  num_lectures               level  \\\n",
       "0    200             2147           23            51          All Levels   \n",
       "1     75             2792          923           274          All Levels   \n",
       "2     45             2174           74            51  Intermediate Level   \n",
       "\n",
       "   content_duration           subject  \n",
       "0               1.5  Business Finance  \n",
       "1              39.0  Business Finance  \n",
       "2               2.5  Business Finance  "
      ]
     },
     "execution_count": 12,
     "metadata": {},
     "output_type": "execute_result"
    }
   ],
   "source": [
    "df.head(3)"
   ]
  },
  {
   "cell_type": "code",
   "execution_count": 13,
   "id": "3adad91b-5cea-4e63-b241-e65bc10034ea",
   "metadata": {},
   "outputs": [
    {
     "data": {
      "text/plain": [
       "(3362, 7)"
      ]
     },
     "execution_count": 13,
     "metadata": {},
     "output_type": "execute_result"
    }
   ],
   "source": [
    "df.shape"
   ]
  },
  {
   "cell_type": "markdown",
   "id": "52490861-e900-435d-abc2-99af8cdc525f",
   "metadata": {},
   "source": [
    "### 4. Feature Engineering"
   ]
  },
  {
   "cell_type": "code",
   "execution_count": 14,
   "id": "309af18c-e0b2-433f-a063-911ec4e6806e",
   "metadata": {},
   "outputs": [],
   "source": [
    "# Feature Engineering\n",
    "def feature_engineering(df):\n",
    "    # Encode categorical variables (level and subject)\n",
    "    le_level = LabelEncoder()\n",
    "    df['level'] = le_level.fit_transform(df['level'])\n",
    "\n",
    "    le_subject = LabelEncoder()\n",
    "    df['subject'] = le_subject.fit_transform(df['subject'])\n",
    "    \n",
    "    # Feature Engineering\n",
    "    df['review_subscriber_ratio'] = df['num_reviews'] / df['num_subscribers']\n",
    "    df['course_popularity'] = df['num_subscribers'] * df['num_reviews']\n",
    "    df['lectures_to_duration'] = df['num_lectures'] / df['content_duration']  # Added new feature for course structure\n",
    "    \n",
    "    return df, le_level, le_subject\n",
    "df, le_level, le_subject = feature_engineering(df)"
   ]
  },
  {
   "cell_type": "code",
   "execution_count": 15,
   "id": "4dd6ab5c-f660-4fa4-bdc8-44b73e3ed18e",
   "metadata": {},
   "outputs": [
    {
     "data": {
      "text/html": [
       "<div>\n",
       "<style scoped>\n",
       "    .dataframe tbody tr th:only-of-type {\n",
       "        vertical-align: middle;\n",
       "    }\n",
       "\n",
       "    .dataframe tbody tr th {\n",
       "        vertical-align: top;\n",
       "    }\n",
       "\n",
       "    .dataframe thead th {\n",
       "        text-align: right;\n",
       "    }\n",
       "</style>\n",
       "<table border=\"1\" class=\"dataframe\">\n",
       "  <thead>\n",
       "    <tr style=\"text-align: right;\">\n",
       "      <th></th>\n",
       "      <th>price</th>\n",
       "      <th>num_subscribers</th>\n",
       "      <th>num_reviews</th>\n",
       "      <th>num_lectures</th>\n",
       "      <th>level</th>\n",
       "      <th>content_duration</th>\n",
       "      <th>subject</th>\n",
       "      <th>review_subscriber_ratio</th>\n",
       "      <th>course_popularity</th>\n",
       "      <th>lectures_to_duration</th>\n",
       "    </tr>\n",
       "  </thead>\n",
       "  <tbody>\n",
       "    <tr>\n",
       "      <th>0</th>\n",
       "      <td>200</td>\n",
       "      <td>2147</td>\n",
       "      <td>23</td>\n",
       "      <td>51</td>\n",
       "      <td>0</td>\n",
       "      <td>1.5</td>\n",
       "      <td>0</td>\n",
       "      <td>0.010713</td>\n",
       "      <td>49381</td>\n",
       "      <td>34.000000</td>\n",
       "    </tr>\n",
       "    <tr>\n",
       "      <th>1</th>\n",
       "      <td>75</td>\n",
       "      <td>2792</td>\n",
       "      <td>923</td>\n",
       "      <td>274</td>\n",
       "      <td>0</td>\n",
       "      <td>39.0</td>\n",
       "      <td>0</td>\n",
       "      <td>0.330587</td>\n",
       "      <td>2577016</td>\n",
       "      <td>7.025641</td>\n",
       "    </tr>\n",
       "    <tr>\n",
       "      <th>2</th>\n",
       "      <td>45</td>\n",
       "      <td>2174</td>\n",
       "      <td>74</td>\n",
       "      <td>51</td>\n",
       "      <td>3</td>\n",
       "      <td>2.5</td>\n",
       "      <td>0</td>\n",
       "      <td>0.034039</td>\n",
       "      <td>160876</td>\n",
       "      <td>20.400000</td>\n",
       "    </tr>\n",
       "  </tbody>\n",
       "</table>\n",
       "</div>"
      ],
      "text/plain": [
       "   price  num_subscribers  num_reviews  num_lectures  level  content_duration  \\\n",
       "0    200             2147           23            51      0               1.5   \n",
       "1     75             2792          923           274      0              39.0   \n",
       "2     45             2174           74            51      3               2.5   \n",
       "\n",
       "   subject  review_subscriber_ratio  course_popularity  lectures_to_duration  \n",
       "0        0                 0.010713              49381             34.000000  \n",
       "1        0                 0.330587            2577016              7.025641  \n",
       "2        0                 0.034039             160876             20.400000  "
      ]
     },
     "execution_count": 15,
     "metadata": {},
     "output_type": "execute_result"
    }
   ],
   "source": [
    "df.head(3)"
   ]
  },
  {
   "cell_type": "markdown",
   "id": "e3348735-a693-4628-82f3-8b1a447532d2",
   "metadata": {},
   "source": [
    "### 5. Scaling Features"
   ]
  },
  {
   "cell_type": "code",
   "execution_count": null,
   "id": "b400a4eb-ca24-4664-961f-0185afe49439",
   "metadata": {},
   "outputs": [],
   "source": []
  }
 ],
 "metadata": {
  "kernelspec": {
   "display_name": "Python 3 (ipykernel)",
   "language": "python",
   "name": "python3"
  },
  "language_info": {
   "codemirror_mode": {
    "name": "ipython",
    "version": 3
   },
   "file_extension": ".py",
   "mimetype": "text/x-python",
   "name": "python",
   "nbconvert_exporter": "python",
   "pygments_lexer": "ipython3",
   "version": "3.11.6"
  }
 },
 "nbformat": 4,
 "nbformat_minor": 5
}
