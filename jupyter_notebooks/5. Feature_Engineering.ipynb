{
 "cells": [
  {
   "cell_type": "markdown",
   "id": "1b7e9b72-ff01-4c20-92cd-26b7f3f3f2ed",
   "metadata": {},
   "source": [
    "# Feature Engineering Notebook"
   ]
  },
  {
   "cell_type": "markdown",
   "id": "f9802953-1679-4b52-8b8a-01268eb5d04f",
   "metadata": {},
   "source": [
    "### Objectives:"
   ]
  },
  {
   "cell_type": "markdown",
   "id": "ec97e6d2-93c9-4483-ab57-75dce1f20887",
   "metadata": {},
   "source": [
    "Engineer features for Classification, Regression and Cluster models"
   ]
  },
  {
   "cell_type": "markdown",
   "id": "84b19795-c16c-40e9-b561-745017e3a54e",
   "metadata": {},
   "source": [
    "### Inputs:"
   ]
  },
  {
   "cell_type": "markdown",
   "id": "e9628812-df19-4eb9-8d10-37867c9e8c9a",
   "metadata": {},
   "source": [
    "outputs/datasets/cleaned/cleanedDataset.csv"
   ]
  },
  {
   "cell_type": "markdown",
   "id": "a78a945f-6e44-4f7a-9602-df09117bfdb2",
   "metadata": {},
   "source": [
    "### Outputs:"
   ]
  },
  {
   "cell_type": "markdown",
   "id": "9fea527d-0853-4ddb-9a7e-79ab3d66b751",
   "metadata": {},
   "source": [
    "generate a list with variables to engineer"
   ]
  },
  {
   "cell_type": "markdown",
   "id": "435b56c5-c705-4311-9308-e19225a9e277",
   "metadata": {},
   "source": [
    "### 1. Import libraries and get the current directory path"
   ]
  },
  {
   "cell_type": "code",
   "execution_count": 2,
   "id": "9fd49432-abb0-479c-9e0f-33a7a6237577",
   "metadata": {},
   "outputs": [],
   "source": [
    "import os\n",
    "import pandas as pd\n",
    "import numpy as np\n",
    "import matplotlib.pyplot as plt\n",
    "import seaborn as sns\n",
    "from datetime import datetime\n",
    "from sklearn.model_selection import train_test_split\n",
    "from feature_engine.encoding import OrdinalEncoder\n",
    "from feature_engine.outliers import Winsorizer\n",
    "from feature_engine.selection import SmartCorrelatedSelection\n",
    "import scipy.stats as stats\n",
    "import warnings\n",
    "\n",
    "# Set styles\n",
    "sns.set(style=\"whitegrid\")\n",
    "warnings.filterwarnings('ignore')\n",
    "\n",
    "# In case you want to go one directory back\n",
    "current_dir = os.getcwd()\n",
    "os.chdir(os.path.dirname(current_dir))"
   ]
  },
  {
   "cell_type": "code",
   "execution_count": 3,
   "id": "f04f4077-f85e-4bd9-a39f-9744a5b09b7e",
   "metadata": {},
   "outputs": [],
   "source": [
    "### 2. Check the data"
   ]
  },
  {
   "cell_type": "code",
   "execution_count": 4,
   "id": "7e565f7c-b07d-4834-9640-15eddd8b8540",
   "metadata": {},
   "outputs": [],
   "source": [
    "df = pd.read_csv(f\"outputs/datasets/cleaned/cleanedDataset.csv\")\n",
    "df['published_timestamp'] = pd.to_datetime(df['published_timestamp'])"
   ]
  },
  {
   "cell_type": "code",
   "execution_count": 5,
   "id": "adce90e4-6d29-474d-9a8f-1773d4e0aa0a",
   "metadata": {},
   "outputs": [
    {
     "name": "stdout",
     "output_type": "stream",
     "text": [
      "<class 'pandas.core.frame.DataFrame'>\n",
      "RangeIndex: 3672 entries, 0 to 3671\n",
      "Data columns (total 12 columns):\n",
      " #   Column               Non-Null Count  Dtype              \n",
      "---  ------               --------------  -----              \n",
      " 0   course_id            3672 non-null   int64              \n",
      " 1   course_title         3672 non-null   object             \n",
      " 2   url                  3672 non-null   object             \n",
      " 3   is_paid              3672 non-null   int64              \n",
      " 4   price                3672 non-null   int64              \n",
      " 5   num_subscribers      3672 non-null   int64              \n",
      " 6   num_reviews          3672 non-null   int64              \n",
      " 7   num_lectures         3672 non-null   int64              \n",
      " 8   level                3672 non-null   object             \n",
      " 9   content_duration     3672 non-null   float64            \n",
      " 10  published_timestamp  3672 non-null   datetime64[ns, UTC]\n",
      " 11  subject              3672 non-null   object             \n",
      "dtypes: datetime64[ns, UTC](1), float64(1), int64(6), object(4)\n",
      "memory usage: 344.4+ KB\n"
     ]
    }
   ],
   "source": [
    "df.info()"
   ]
  },
  {
   "cell_type": "code",
   "execution_count": null,
   "id": "50bd6aa4-7b2b-42ea-a46d-3604a0f89a23",
   "metadata": {},
   "outputs": [],
   "source": []
  }
 ],
 "metadata": {
  "kernelspec": {
   "display_name": "Python 3 (ipykernel)",
   "language": "python",
   "name": "python3"
  },
  "language_info": {
   "codemirror_mode": {
    "name": "ipython",
    "version": 3
   },
   "file_extension": ".py",
   "mimetype": "text/x-python",
   "name": "python",
   "nbconvert_exporter": "python",
   "pygments_lexer": "ipython3",
   "version": "3.11.6"
  }
 },
 "nbformat": 4,
 "nbformat_minor": 5
}
