{
 "cells": [
  {
   "cell_type": "markdown",
   "id": "11f26170-5e37-4596-ab1d-53c4dfc17ef4",
   "metadata": {},
   "source": [
    "# Data Cleaning Notebook"
   ]
  },
  {
   "cell_type": "markdown",
   "id": "635ed381-b7a3-4763-ac9b-a6cef2f1597a",
   "metadata": {},
   "source": [
    "### Objectives:"
   ]
  },
  {
   "cell_type": "markdown",
   "id": "d1b30c96-2647-48e1-9b9a-e3fc518f5957",
   "metadata": {},
   "source": [
    "To clean the dataset for further processing"
   ]
  },
  {
   "cell_type": "markdown",
   "id": "e9db3118-0b1c-4c69-9f76-5faeffb1bb5c",
   "metadata": {},
   "source": [
    "### Inputs:"
   ]
  },
  {
   "cell_type": "markdown",
   "id": "a2383829-22d3-4a73-af76-415198f458a4",
   "metadata": {},
   "source": [
    "inputs/datasets/raw/udemy_courses.csv"
   ]
  },
  {
   "cell_type": "markdown",
   "id": "efa077b1-d3de-469c-bae9-2aab88938e03",
   "metadata": {},
   "source": [
    "### Outputs:"
   ]
  },
  {
   "cell_type": "markdown",
   "id": "7d74745a-3037-43f1-a893-c78f3330a244",
   "metadata": {},
   "source": [
    "generate cleaned dataset, saved under outputs/datasets/cleaned"
   ]
  },
  {
   "cell_type": "markdown",
   "id": "8419a9f6-2d5e-4d71-991f-3e43f1f2e1df",
   "metadata": {},
   "source": [
    "### 1. Import libraries and get the current directory path"
   ]
  },
  {
   "cell_type": "code",
   "execution_count": 1,
   "id": "bb8b3db3-5a18-4541-9773-8220ce6ef177",
   "metadata": {},
   "outputs": [],
   "source": [
    "import os\n",
    "import matplotlib.pyplot as plt\n",
    "import seaborn as sns\n",
    "import pandas as pd\n",
    "current_dir = os.getcwd()"
   ]
  },
  {
   "cell_type": "code",
   "execution_count": 3,
   "id": "f8a8d56f-e025-4580-95ff-4ed34f6ad7d3",
   "metadata": {},
   "outputs": [
    {
     "data": {
      "text/plain": [
       "'/Users/panda/Desktop/code_institue_projects/portfolio-projects/learning_trends_analyzer/jupyter_notebooks'"
      ]
     },
     "execution_count": 3,
     "metadata": {},
     "output_type": "execute_result"
    }
   ],
   "source": [
    "# In case you want to go one directory back\n",
    "\n",
    "os.chdir(os.path.dirname(current_dir))\n",
    "current_dir"
   ]
  },
  {
   "cell_type": "markdown",
   "id": "ae09e353-f924-46a0-8039-656e79f349b0",
   "metadata": {},
   "source": [
    "### 2. Grab five rows from the dataframe"
   ]
  },
  {
   "cell_type": "code",
   "execution_count": 4,
   "id": "efd1ee66-b2a2-4763-8dfd-73578c3e3315",
   "metadata": {},
   "outputs": [],
   "source": [
    "df = pd.read_csv(f\"inputs/datasets/raw/udemy_courses.csv\")"
   ]
  },
  {
   "cell_type": "markdown",
   "id": "36d42964-162e-43be-8024-71fe282d2014",
   "metadata": {},
   "source": [
    "### 3. Check for null values"
   ]
  },
  {
   "cell_type": "code",
   "execution_count": 5,
   "id": "73800031-84e9-4290-b1a7-c1680b969ff8",
   "metadata": {},
   "outputs": [
    {
     "data": {
      "text/plain": [
       "course_id              0\n",
       "course_title           0\n",
       "url                    0\n",
       "is_paid                0\n",
       "price                  0\n",
       "num_subscribers        0\n",
       "num_reviews            0\n",
       "num_lectures           0\n",
       "level                  0\n",
       "content_duration       0\n",
       "published_timestamp    0\n",
       "subject                0\n",
       "dtype: int64"
      ]
     },
     "execution_count": 5,
     "metadata": {},
     "output_type": "execute_result"
    }
   ],
   "source": [
    "# Check for missing values\n",
    "df.isnull().sum()"
   ]
  },
  {
   "cell_type": "markdown",
   "id": "d3b1b01d-4a05-4fa8-b111-26c251c01269",
   "metadata": {},
   "source": [
    "### 4. Drop rows with missing essential data"
   ]
  },
  {
   "cell_type": "code",
   "execution_count": 6,
   "id": "44148606-a508-4d30-ad8c-87df9a32015c",
   "metadata": {},
   "outputs": [],
   "source": [
    "# Drop rows with missing essential data (e.g., 'course_id', 'course_title', 'price')\n",
    "df.dropna(subset=['course_id', 'course_title', 'price'], inplace=True)"
   ]
  },
  {
   "cell_type": "markdown",
   "id": "ef1af333-115c-4715-b55c-27b5a0997ef9",
   "metadata": {},
   "source": [
    "### 5. Handle Categorical Data"
   ]
  },
  {
   "cell_type": "code",
   "execution_count": 7,
   "id": "537afef8-e278-453b-872b-aed31b443962",
   "metadata": {},
   "outputs": [],
   "source": [
    "# Handle categorical data - Encoding 'is_paid' as 0/1\n",
    "df['is_paid'] = df['is_paid'].astype(int)"
   ]
  },
  {
   "cell_type": "markdown",
   "id": "c476974d-5837-42a7-b6de-dacb1596ceb0",
   "metadata": {},
   "source": [
    "### 6. Convert published_timestamp to datetime format"
   ]
  },
  {
   "cell_type": "code",
   "execution_count": 8,
   "id": "e851bf0b-d031-4471-aee3-2a66c8b5a4a6",
   "metadata": {},
   "outputs": [],
   "source": [
    "# Convert 'published_timestamp' to datetime format\n",
    "df['published_timestamp'] = pd.to_datetime(df['published_timestamp'])"
   ]
  },
  {
   "cell_type": "markdown",
   "id": "69467bef-8ad2-4085-89ed-ef1ba69b83cd",
   "metadata": {},
   "source": [
    "### 7. Remove duplicates"
   ]
  },
  {
   "cell_type": "code",
   "execution_count": 13,
   "id": "32a512e6-5a64-44ff-945b-3949a60f0f82",
   "metadata": {},
   "outputs": [],
   "source": [
    "# Remove duplicates\n",
    "df.drop_duplicates(inplace=True)"
   ]
  },
  {
   "cell_type": "code",
   "execution_count": 14,
   "id": "5deefc41-533d-4572-9c1f-e0e576a1cb08",
   "metadata": {},
   "outputs": [
    {
     "data": {
      "text/plain": [
       "(3672, 12)"
      ]
     },
     "execution_count": 14,
     "metadata": {},
     "output_type": "execute_result"
    }
   ],
   "source": [
    "df.shape"
   ]
  },
  {
   "cell_type": "markdown",
   "id": "cf66cb8a-028d-4fc5-90bc-afeade3d12a0",
   "metadata": {},
   "source": [
    "### 8. Handle Outliers in Numerical Columns (e.g., 'price')"
   ]
  },
  {
   "cell_type": "code",
   "execution_count": 15,
   "id": "62740c17-72cf-4fc2-9e77-a1d48d50c2cf",
   "metadata": {},
   "outputs": [],
   "source": [
    "# Handle outliers in numerical columns, e.g., 'price'\n",
    "q1 = df['price'].quantile(0.25)\n",
    "q3 = df['price'].quantile(0.75)\n",
    "iqr = q3 - q1\n",
    "lower_bound = q1 - 1.5 * iqr\n",
    "upper_bound = q3 + 1.5 * iqr\n",
    "df = df[(df['price'] >= lower_bound) & (df['price'] <= upper_bound)]"
   ]
  },
  {
   "cell_type": "markdown",
   "id": "143b14c9-bc27-4a80-a037-dade93a24b78",
   "metadata": {},
   "source": [
    "### 9. Convert content_duration to a Reasonable Range"
   ]
  },
  {
   "cell_type": "code",
   "execution_count": 17,
   "id": "d5ba87b5-4b12-4913-ad1c-09b0e93747cb",
   "metadata": {},
   "outputs": [],
   "source": [
    "# Convert 'content_duration' to a reasonable range if needed\n",
    "df['content_duration'] = df['content_duration'].clip(lower=0)"
   ]
  },
  {
   "cell_type": "markdown",
   "id": "450ae326-ea6e-405e-9ac7-c0be74710049",
   "metadata": {},
   "source": [
    "### 10. Final Data Check"
   ]
  },
  {
   "cell_type": "code",
   "execution_count": 19,
   "id": "1ddece9e-ae73-47f7-a307-bd924c8df695",
   "metadata": {},
   "outputs": [
    {
     "name": "stdout",
     "output_type": "stream",
     "text": [
      "<class 'pandas.core.frame.DataFrame'>\n",
      "Index: 3672 entries, 0 to 3677\n",
      "Data columns (total 12 columns):\n",
      " #   Column               Non-Null Count  Dtype              \n",
      "---  ------               --------------  -----              \n",
      " 0   course_id            3672 non-null   int64              \n",
      " 1   course_title         3672 non-null   object             \n",
      " 2   url                  3672 non-null   object             \n",
      " 3   is_paid              3672 non-null   int64              \n",
      " 4   price                3672 non-null   int64              \n",
      " 5   num_subscribers      3672 non-null   int64              \n",
      " 6   num_reviews          3672 non-null   int64              \n",
      " 7   num_lectures         3672 non-null   int64              \n",
      " 8   level                3672 non-null   object             \n",
      " 9   content_duration     3672 non-null   float64            \n",
      " 10  published_timestamp  3672 non-null   datetime64[ns, UTC]\n",
      " 11  subject              3672 non-null   object             \n",
      "dtypes: datetime64[ns, UTC](1), float64(1), int64(6), object(4)\n",
      "memory usage: 372.9+ KB\n"
     ]
    }
   ],
   "source": [
    "# Final data check\n",
    "df.info()"
   ]
  },
  {
   "cell_type": "markdown",
   "id": "8755c43a-2b08-495f-aff0-5a6c99a519e3",
   "metadata": {},
   "source": [
    "### Push cleaned data"
   ]
  },
  {
   "cell_type": "code",
   "execution_count": 20,
   "id": "ea274adc-e8de-4fae-aace-28045eb84f04",
   "metadata": {},
   "outputs": [
    {
     "name": "stdout",
     "output_type": "stream",
     "text": [
      "[Errno 17] File exists: 'outputs/datasets/cleaned'\n"
     ]
    }
   ],
   "source": [
    "try:\n",
    "  os.makedirs(name='outputs/datasets/cleaned') # create outputs/datasets/collection folder\n",
    "except Exception as e:\n",
    "  print(e)"
   ]
  },
  {
   "cell_type": "code",
   "execution_count": 21,
   "id": "d065eeff-aae4-4dac-a637-232b1dfc99f4",
   "metadata": {},
   "outputs": [],
   "source": [
    "df.to_csv(\"outputs/datasets/cleaned/cleanedDataset.csv\", index=False)"
   ]
  },
  {
   "cell_type": "code",
   "execution_count": null,
   "id": "8ba650a7-71c0-4d86-bdcb-90a8adf56e3b",
   "metadata": {},
   "outputs": [],
   "source": []
  }
 ],
 "metadata": {
  "kernelspec": {
   "display_name": "Python 3 (ipykernel)",
   "language": "python",
   "name": "python3"
  },
  "language_info": {
   "codemirror_mode": {
    "name": "ipython",
    "version": 3
   },
   "file_extension": ".py",
   "mimetype": "text/x-python",
   "name": "python",
   "nbconvert_exporter": "python",
   "pygments_lexer": "ipython3",
   "version": "3.11.6"
  }
 },
 "nbformat": 4,
 "nbformat_minor": 5
}
