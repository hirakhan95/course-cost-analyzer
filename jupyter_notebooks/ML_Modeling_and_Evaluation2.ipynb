{
 "cells": [
  {
   "cell_type": "markdown",
   "id": "59d7c4af-9eb0-4fbe-9457-3a2764be06a8",
   "metadata": {},
   "source": [
    "# ML Modeling and Evaluation Notebook"
   ]
  },
  {
   "cell_type": "markdown",
   "id": "3a0c051c-19ca-4207-932f-0932d98c991c",
   "metadata": {},
   "source": [
    "### Objectives:"
   ]
  },
  {
   "cell_type": "markdown",
   "id": "74eeda31-a854-4376-8beb-4b9aa987b46f",
   "metadata": {},
   "source": [
    "Fit and evaluate a regression model"
   ]
  },
  {
   "cell_type": "markdown",
   "id": "f56b738c-3cc2-44a9-b61a-3a06924a4e97",
   "metadata": {},
   "source": [
    "### Inputs:"
   ]
  },
  {
   "cell_type": "markdown",
   "id": "9a547389-c9c5-47c2-bbb4-9d9ce27af38d",
   "metadata": {},
   "source": [
    "outputs/datasets/cleaned/cleanedDataset.csv"
   ]
  },
  {
   "cell_type": "markdown",
   "id": "8fa118bb-f18c-44a9-a31a-84f1bd8582bd",
   "metadata": {},
   "source": [
    "### Outputs:"
   ]
  },
  {
   "cell_type": "markdown",
   "id": "544bb8f7-44d2-4d9b-a647-13ecbd90c8ac",
   "metadata": {},
   "source": [
    "- Train set (features and target)\n",
    "- Test set (features and target)\n",
    "- Data cleaning and Feature Engineering\n",
    "- Modeling\n",
    "- Feature importance plot"
   ]
  },
  {
   "cell_type": "markdown",
   "id": "29b7612f-d655-4495-b44f-097417861679",
   "metadata": {},
   "source": [
    "### Content Duration vs. Engagement & Retention Analysis\n",
    "\n",
    "Business Case: \n",
    "Understanding how content duration affects student retention can help improve course design. If courses with shorter content duration result in higher ratings or more reviews, instructors can be encouraged to optimize their courses for higher engagement. On the other hand, longer courses could be adjusted to ensure students remain engaged throughout the course, potentially boosting course ratings and attracting more subscribers.\n",
    "\n",
    "- Analyze the relationship between content duration and the number of subscribers, reviews, and ratings.\n",
    "- Cluster courses into duration categories (short, medium, long) and assess the performance metrics (ratings, reviews, subscribers).\n",
    "- Provide insights into the optimal course length for higher engagement and retention."
   ]
  },
  {
   "cell_type": "code",
   "execution_count": null,
   "id": "72e5a847-d5e4-45f0-92d8-6a4dcfbc6bdf",
   "metadata": {},
   "outputs": [],
   "source": []
  }
 ],
 "metadata": {
  "kernelspec": {
   "display_name": "Python 3 (ipykernel)",
   "language": "python",
   "name": "python3"
  },
  "language_info": {
   "codemirror_mode": {
    "name": "ipython",
    "version": 3
   },
   "file_extension": ".py",
   "mimetype": "text/x-python",
   "name": "python",
   "nbconvert_exporter": "python",
   "pygments_lexer": "ipython3",
   "version": "3.11.6"
  }
 },
 "nbformat": 4,
 "nbformat_minor": 5
}
